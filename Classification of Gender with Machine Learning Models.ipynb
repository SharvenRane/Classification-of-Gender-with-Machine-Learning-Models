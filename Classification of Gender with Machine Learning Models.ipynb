{
 "cells": [
  {
   "cell_type": "code",
   "execution_count": 1,
   "id": "39b21ced",
   "metadata": {},
   "outputs": [],
   "source": [
    "#Gender Classification with Python"
   ]
  },
  {
   "cell_type": "code",
   "execution_count": 2,
   "id": "e5df2a3c",
   "metadata": {},
   "outputs": [],
   "source": [
    "from sklearn import tree"
   ]
  },
  {
   "cell_type": "code",
   "execution_count": 3,
   "id": "af6cca4c",
   "metadata": {},
   "outputs": [],
   "source": [
    "#height, #weight, #shoesize"
   ]
  },
  {
   "cell_type": "code",
   "execution_count": 4,
   "id": "b418aaec",
   "metadata": {},
   "outputs": [],
   "source": [
    "X = [[180,80, 44], [177, 70, 43], [160, 60, 38], [154, 54, 37], [166, 65, 40],\n",
    "     [190, 90, 47], [175, 64, 39],\n",
    "     [177, 70, 40], [159, 55, 37], [171, 75, 42], [181, 85, 43],[188,85,46]]"
   ]
  },
  {
   "cell_type": "code",
   "execution_count": 5,
   "id": "68591f1d",
   "metadata": {},
   "outputs": [],
   "source": [
    "Y = ['male', 'male', 'female', 'female', 'male', 'male', 'female', 'female',\n",
    "     'female', 'male', 'male', 'male']"
   ]
  },
  {
   "cell_type": "code",
   "execution_count": null,
   "id": "b5cb8ab1",
   "metadata": {},
   "outputs": [],
   "source": [
    "# DECISION TREE CLASSIFIER"
   ]
  },
  {
   "cell_type": "code",
   "execution_count": 6,
   "id": "88dde234",
   "metadata": {},
   "outputs": [],
   "source": [
    "clf = tree.DecisionTreeClassifier() #classifier of decision tree"
   ]
  },
  {
   "cell_type": "code",
   "execution_count": 7,
   "id": "f981531d",
   "metadata": {},
   "outputs": [],
   "source": [
    "clf = clf.fit(X, Y) #Trains the decision tree"
   ]
  },
  {
   "cell_type": "code",
   "execution_count": 8,
   "id": "a99907c1",
   "metadata": {},
   "outputs": [],
   "source": [
    "prediction = clf.predict([[190,110,46]]) #Testing "
   ]
  },
  {
   "cell_type": "code",
   "execution_count": 9,
   "id": "df6b07d8",
   "metadata": {},
   "outputs": [
    {
     "name": "stdout",
     "output_type": "stream",
     "text": [
      "['male']\n"
     ]
    }
   ],
   "source": [
    "print(prediction)"
   ]
  },
  {
   "cell_type": "code",
   "execution_count": null,
   "id": "53f3fe61",
   "metadata": {},
   "outputs": [],
   "source": [
    "# Logistic Regression"
   ]
  },
  {
   "cell_type": "code",
   "execution_count": 14,
   "id": "2d306dca",
   "metadata": {},
   "outputs": [],
   "source": [
    "from sklearn.linear_model import LogisticRegression"
   ]
  },
  {
   "cell_type": "code",
   "execution_count": 15,
   "id": "f2a12107",
   "metadata": {},
   "outputs": [],
   "source": [
    "clf2 = LogisticRegression()"
   ]
  },
  {
   "cell_type": "code",
   "execution_count": 16,
   "id": "51ddc1c0",
   "metadata": {},
   "outputs": [],
   "source": [
    "clf2 = clf2.fit(X, Y)"
   ]
  },
  {
   "cell_type": "code",
   "execution_count": 18,
   "id": "58c19fea",
   "metadata": {},
   "outputs": [],
   "source": [
    "prediction2 = clf2.predict([[150,35,35]])"
   ]
  },
  {
   "cell_type": "code",
   "execution_count": 19,
   "id": "06e52fe9",
   "metadata": {},
   "outputs": [
    {
     "name": "stdout",
     "output_type": "stream",
     "text": [
      "['female']\n"
     ]
    }
   ],
   "source": [
    "print(prediction2)"
   ]
  },
  {
   "cell_type": "code",
   "execution_count": null,
   "id": "83913cae",
   "metadata": {},
   "outputs": [],
   "source": [
    "# Support Vector Machine"
   ]
  },
  {
   "cell_type": "code",
   "execution_count": 20,
   "id": "5d24ce18",
   "metadata": {},
   "outputs": [],
   "source": [
    "from sklearn import svm"
   ]
  },
  {
   "cell_type": "code",
   "execution_count": 21,
   "id": "c16c5594",
   "metadata": {},
   "outputs": [],
   "source": [
    "clf3 = svm.SVC()"
   ]
  },
  {
   "cell_type": "code",
   "execution_count": 22,
   "id": "3d7dbf37",
   "metadata": {},
   "outputs": [],
   "source": [
    "clf3 = clf3.fit(X, Y)"
   ]
  },
  {
   "cell_type": "code",
   "execution_count": 24,
   "id": "651e328a",
   "metadata": {},
   "outputs": [],
   "source": [
    "prediction3 = clf3.predict([[170,70,40]])"
   ]
  },
  {
   "cell_type": "code",
   "execution_count": 25,
   "id": "f42b23ff",
   "metadata": {},
   "outputs": [
    {
     "name": "stdout",
     "output_type": "stream",
     "text": [
      "['male']\n"
     ]
    }
   ],
   "source": [
    "print(prediction3)"
   ]
  }
 ],
 "metadata": {
  "kernelspec": {
   "display_name": "Python 3 (ipykernel)",
   "language": "python",
   "name": "python3"
  },
  "language_info": {
   "codemirror_mode": {
    "name": "ipython",
    "version": 3
   },
   "file_extension": ".py",
   "mimetype": "text/x-python",
   "name": "python",
   "nbconvert_exporter": "python",
   "pygments_lexer": "ipython3",
   "version": "3.9.7"
  }
 },
 "nbformat": 4,
 "nbformat_minor": 5
}
